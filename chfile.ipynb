{
 "cells": [
  {
   "cell_type": "code",
   "execution_count": 77,
   "metadata": {},
   "outputs": [],
   "source": [
    "import csv\n",
    "import numpy as np\n",
    "temp = 0\n",
    "with open('Spots_in_tracks_statistics425.csv') as f:\n",
    "    reader = np.array(list(csv.reader(f)))"
   ]
  },
  {
   "cell_type": "code",
   "execution_count": 78,
   "metadata": {},
   "outputs": [],
   "source": [
    "temp = np.transpose(reader[1::])\n",
    "temp = temp[2:14:5]\n",
    "tempTrack = np.array(range(len(temp[0])), dtype=int)\n",
    "tempTime = np.array(range(len(temp[1])), dtype=int)\n",
    "tempD = np.array(range(len(temp[2])), dtype=float)\n",
    "for i in range(0, len(temp[0])):\n",
    "    tempTrack[i] = int(temp[0][i])\n",
    "    tempTime[i] = int(temp[1][i])\n",
    "    tempD[i] = float(temp[2][i])\n"
   ]
  },
  {
   "cell_type": "code",
   "execution_count": 79,
   "metadata": {},
   "outputs": [],
   "source": [
    "count = [i for i in range(tempTrack[-1]+1)]\n"
   ]
  },
  {
   "cell_type": "code",
   "execution_count": 80,
   "metadata": {},
   "outputs": [],
   "source": [
    "for i in count:\n",
    "    count[i] = list(tempTrack).count(i)"
   ]
  },
  {
   "cell_type": "code",
   "execution_count": 81,
   "metadata": {},
   "outputs": [],
   "source": [
    "tMax = sorted(tempTime, reverse = True)[0]\n"
   ]
  },
  {
   "cell_type": "code",
   "execution_count": 111,
   "metadata": {},
   "outputs": [],
   "source": [
    "summ = 0\n",
    "check = 0;\n",
    "paternTrack = np.array(range(tMax+1), dtype = '<U32')\n",
    "for i in range(tMax+1):\n",
    "    paternTrack[i] = '-'\n",
    "t = np.array(range(0), dtype = '<U32')\n",
    "for i in count:\n",
    "    tempData = paternTrack.copy()\n",
    "    for j in range(summ, summ+i):\n",
    "        tempData[tempTime[j]] = tempD[j]    \n",
    "    t = np.insert(t, check, tempData)\n",
    "    check+=len(tempData)\n",
    "    summ+=i"
   ]
  },
  {
   "cell_type": "code",
   "execution_count": 112,
   "metadata": {},
   "outputs": [
    {
     "name": "stdout",
     "output_type": "stream",
     "text": [
      "[['0' '40.043' '46.019' ... '-' '-' '-']\n",
      " ['1' '44.862' '45.81' ... '-' '-' '-']\n",
      " ['2' '44.466' '45.697' ... '-' '-' '-']\n",
      " ...\n",
      " ['212' '-' '-' ... '22.409' '-' '-']\n",
      " ['213' '-' '-' ... '22.562' '-' '-']\n",
      " ['214' '-' '-' ... '22.697' '-' '-']]\n"
     ]
    }
   ],
   "source": [
    "t = np.insert(t, 0, list(range(tMax+1)))\n",
    "t = np.transpose(t.reshape(len(count)+1, tMax+1))\n",
    "tempHead = np.array([\"Track \" + str(i) for i in range(len(count))])\n",
    "tempHead = np.insert(tempHead, 0, \"Time\")\n"
   ]
  },
  {
   "cell_type": "code",
   "execution_count": 113,
   "metadata": {},
   "outputs": [],
   "source": [
    "with open('sw_data_new.csv', 'w') as f:\n",
    "    writer = csv.writer(f)\n",
    "    writer.writerow(tempHead)\n",
    "    for row in t:\n",
    "        writer.writerow(row)"
   ]
  },
  {
   "cell_type": "code",
   "execution_count": null,
   "metadata": {},
   "outputs": [],
   "source": []
  },
  {
   "cell_type": "code",
   "execution_count": null,
   "metadata": {},
   "outputs": [],
   "source": []
  },
  {
   "cell_type": "code",
   "execution_count": null,
   "metadata": {},
   "outputs": [],
   "source": []
  }
 ],
 "metadata": {
  "kernelspec": {
   "display_name": "Python 3",
   "language": "python",
   "name": "python3"
  },
  "language_info": {
   "codemirror_mode": {
    "name": "ipython",
    "version": 3
   },
   "file_extension": ".py",
   "mimetype": "text/x-python",
   "name": "python",
   "nbconvert_exporter": "python",
   "pygments_lexer": "ipython3",
   "version": "3.5.5"
  }
 },
 "nbformat": 4,
 "nbformat_minor": 4
}
